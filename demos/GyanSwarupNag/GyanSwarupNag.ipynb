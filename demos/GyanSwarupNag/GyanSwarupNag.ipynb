{
 "cells": [
  {
   "cell_type": "markdown",
   "metadata": {},
   "source": [
    "# Demo for calculating the spectrum of a simple system\n",
    "\n",
    "In this demo we will show how to calculate the sprectrum of the following system\n",
    "\n",
    "$$\n",
    "\\dot x(t) = \\begin{pmatrix} -5 & 1 \\\\ 2 & 6 \\end{pmatrix} x(t) \n",
    "+ \\left(\\begin{array}{cc} -2 & 1 \\\\ 4 & -1 \\end{array}\\right) x(t-\\tau),\n",
    "$$\n",
    "\n",
    "where $x: \\mathbb R \\to \\mathbb R^2$ and $\\tau=1$."
   ]
  },
  {
   "cell_type": "markdown",
   "metadata": {},
   "source": [
    "## Add paths and load sym package"
   ]
  },
  {
   "cell_type": "code",
   "execution_count": 1,
   "metadata": {},
   "outputs": [],
   "source": [
    "ddebiftoolpath='../../'; %point this to the main directory of DDE-BifTool\n",
    "addpath(strcat(ddebiftoolpath,'ddebiftool'),...\n",
    "    strcat(ddebiftoolpath,'ddebiftool_extra_psol'),...\n",
    "    strcat(ddebiftoolpath,'ddebiftool_extra_symbolic'),...\n",
    "    strcat(ddebiftoolpath,'ddebiftool_extra_nmfm'),...\n",
    "    strcat(ddebiftoolpath,'ddebiftool_utilities'));"
   ]
  },
  {
   "cell_type": "markdown",
   "metadata": {},
   "source": [
    "## Create parameter names as strings and define fixed parameters\n",
    "The demo has a single parameter $\\tau$"
   ]
  },
  {
   "cell_type": "code",
   "execution_count": 2,
   "metadata": {},
   "outputs": [],
   "source": [
    "parnames={'tau'};"
   ]
  },
  {
   "cell_type": "markdown",
   "metadata": {},
   "source": [
    "## Create symbols for parameters, states and delays states\n",
    "The array |par| is the array of symbols in the same order as parnames.\n",
    "Due to the following two lines we may, for example, use either tau or\n",
    "par(1) to refer to the delay."
   ]
  },
  {
   "cell_type": "code",
   "execution_count": 3,
   "metadata": {},
   "outputs": [],
   "source": [
    "syms(parnames{:});       % create symbol for tau\n",
    "par = cell2sym(parnames);  % now tau is par(1) etc"
   ]
  },
  {
   "cell_type": "markdown",
   "metadata": {},
   "source": [
    "## Define system using symbolic algebra\n",
    "Create symbols for $x(t)$, $x(t-\\tau)$, $y(t)$, $y(t-\\tau)$, ect."
   ]
  },
  {
   "cell_type": "code",
   "execution_count": 4,
   "metadata": {},
   "outputs": [],
   "source": [
    "syms x1 x2 x1tau x2tau"
   ]
  },
  {
   "cell_type": "markdown",
   "metadata": {},
   "source": [
    "## Define the system"
   ]
  },
  {
   "cell_type": "code",
   "execution_count": 5,
   "metadata": {},
   "outputs": [],
   "source": [
    "A0 = [-5 1; 2 6];\n",
    "A1 = [-2 1; 4 -1];\n",
    "dx_dt = A0*[x1; x2] + A1*[x1tau; x2tau];"
   ]
  },
  {
   "cell_type": "markdown",
   "metadata": {},
   "source": [
    "## Differentiate and generate code, exporting it to sym_GyanSwarupNag_mf (multi-linear forms)"
   ]
  },
  {
   "cell_type": "code",
   "execution_count": 6,
   "metadata": {},
   "outputs": [],
   "source": [
    "[fstr,derivs]=dde_sym2funcs(...\n",
    "    [dx_dt(1); dx_dt(2)],... % 2 x 1 array of derivative symbolic expressions\n",
    "    [x1,x1tau;x2,x2tau],... % 2 x (ntau+1) array of symbols for states (current & delayed)\n",
    "    par,... % 1 x np (or np x 1) array of symbols used for parameters\n",
    "    'filename','sym_GyanSwarupNag_mf'... % optional argument specifying output file\n",
    ");"
   ]
  },
  {
   "cell_type": "markdown",
   "metadata": {},
   "source": [
    "## Set the funcs structure using the symbolic generated derivatives\n",
    "We load the precalculated multilinear forms. These have been generated above."
   ]
  },
  {
   "cell_type": "code",
   "execution_count": 7,
   "metadata": {},
   "outputs": [],
   "source": [
    "cind=[parnames;num2cell(1:length(parnames))];\n",
    "ind=struct(cind{:}); % now we can use ind.tau instead of par(1)\n",
    "funcs=set_symfuncs(@sym_GyanSwarupNag_mf, 'sys_tau',@() ind.tau);"
   ]
  },
  {
   "cell_type": "markdown",
   "metadata": {},
   "source": [
    "## Construct steady-state point"
   ]
  },
  {
   "cell_type": "code",
   "execution_count": 8,
   "metadata": {},
   "outputs": [],
   "source": [
    "stst=dde_stst_create('x', [0;0]);\n",
    "tau = 1;\n",
    "stst.parameter(ind.tau) = tau;"
   ]
  },
  {
   "cell_type": "markdown",
   "metadata": {},
   "source": [
    "## Calculate stability and plot the result\n",
    "We are now in the position to calculate the eigenvalues."
   ]
  },
  {
   "cell_type": "code",
   "execution_count": 9,
   "metadata": {},
   "outputs": [
    {
     "data": {
      "image/png": "[encoded data removed]",
      "text/plain": [
       "<IPython.core.display.Image object>"
      ]
     },
     "metadata": {},
     "output_type": "display_data"
    }
   ],
   "source": [
    "method_stst=df_mthod(funcs,'stst');\n",
    "method_stst.stability.minimal_real_part=-10;\n",
    "stst.stability=p_stabil(funcs, stst, method_stst.stability);\n",
    "plot(stst.stability.l1, '*')"
   ]
  },
  {
   "cell_type": "markdown",
   "metadata": {},
   "source": [
    "## Show dominant eigenvalues"
   ]
  },
  {
   "cell_type": "code",
   "execution_count": 10,
   "metadata": {},
   "outputs": [
    {
     "name": "stdout",
     "output_type": "stream",
     "text": [
      "\n",
      "ans =\n",
      "\n",
      "   6.1779 + 0.0000i\n",
      "  -0.8093 + 2.2879i\n",
      "  -0.8093 - 2.2879i\n",
      "\n"
     ]
    }
   ],
   "source": [
    "stst.stability.l1(1:3)"
   ]
  }
 ],
 "metadata": {
  "kernelspec": {
   "display_name": "Matlab",
   "language": "matlab",
   "name": "matlab"
  },
  "language_info": {
   "codemirror_mode": "octave",
   "file_extension": ".m",
   "help_links": [
    {
     "text": "MetaKernel Magics",
     "url": "https://metakernel.readthedocs.io/en/latest/source/README.html"
    }
   ],
   "mimetype": "text/x-octave",
   "name": "matlab",
   "version": "0.16.7"
  }
 },
 "nbformat": 4,
 "nbformat_minor": 4
}
